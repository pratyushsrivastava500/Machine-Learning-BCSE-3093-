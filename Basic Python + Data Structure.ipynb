{
 "cells": [
  {
   "cell_type": "markdown",
   "metadata": {
    "collapsed": false
   },
   "source": [
    "#Print Hello World"
   ]
  },
  {
   "cell_type": "code",
   "execution_count": 3,
   "metadata": {
    "collapsed": false
   },
   "outputs": [
    {
     "name": "stdout",
     "output_type": "stream",
     "text": [
      "Hello World\n"
     ]
    }
   ],
   "source": [
    " print('Hello World')"
   ]
  },
  {
   "cell_type": "markdown",
   "metadata": {
    "collapsed": true
   },
   "source": [
    "#Write a program to prompt the user for hours and rate per hour to compute gross pay.\n",
    "Use 40 hours and a rate of 2.5 per hour to test the program. Gross pay is equal to (hours * Rate per hour).\n",
    "You should use input to read a string and float() to convert the string to a number. \n",
    "Don't worry about error checking or bad user data.#"
   ]
  },
  {
   "cell_type": "code",
   "execution_count": 6,
   "metadata": {
    "collapsed": false
   },
   "outputs": [
    {
     "name": "stdout",
     "output_type": "stream",
     "text": [
      "Enter Hours:40\n",
      "Enter Rate :2.5\n",
      "Gross pay : 100.0\n"
     ]
    }
   ],
   "source": [
    "hour = float(input('Enter Hours:'))\n",
    "rate = float(input('Enter Rate :'))\n",
    "GrossPay = hour*rate\n",
    "print('Gross pay :',GrossPay)"
   ]
  },
  {
   "cell_type": "markdown",
   "metadata": {},
   "source": [
    "Rewrite your pay program using try and except so that your program handles non-numeric input gracefully by printing a message and exiting the program. The following shows two executions of the program:\n",
    "\n",
    "\n",
    "Enter Hours: 20Enter Rate: nineError, please enter numeric input\n",
    "\n",
    "Enter Hours: fortyError, please enter numeric input"
   ]
  },
  {
   "cell_type": "code",
   "execution_count": 13,
   "metadata": {
    "collapsed": false
   },
   "outputs": [
    {
     "name": "stdout",
     "output_type": "stream",
     "text": [
      "Enter Hour :45\n",
      "Enter Rate :2\n",
      "Gross Pay: 90.0\n"
     ]
    }
   ],
   "source": [
    "hour =  input('Enter Hour :')\n",
    "rate = input('Enter Rate :')\n",
    "try:\n",
    "    h = float(hour)\n",
    "    r = float(rate)\n",
    "    Grosspay = h * r\n",
    "    print('Gross Pay:',Grosspay)  \n",
    "except:\n",
    "    print('Error, please enter numeric input')\n",
    "  "
   ]
  },
  {
   "cell_type": "markdown",
   "metadata": {},
   "source": [
    "Rewrite your pay computation and create a function called computepay which takes two parameters (hours and rate) and returns computed pay as answer.\n",
    "\n",
    "Enter Hours: 45\n",
    "\n",
    "Enter Rate: 10\n",
    "\n",
    "Pay: 450.0"
   ]
  },
  {
   "cell_type": "code",
   "execution_count": 2,
   "metadata": {
    "collapsed": false
   },
   "outputs": [
    {
     "name": "stdout",
     "output_type": "stream",
     "text": [
      "Enter Hours:two\n",
      "Enter Rate :2\n",
      "Error, please enter numeric input\n"
     ]
    }
   ],
   "source": [
    "def computepay(hours,rate):\n",
    "    return hours*rate\n",
    "hrs = input('Enter Hours:')\n",
    "rte = input('Enter Rate :')\n",
    "try:\n",
    "    h = float(hrs)\n",
    "    r = float(rte)\n",
    "    print('Computation Pay is :', computepay(h,r))\n",
    "    \n",
    "except:\n",
    "    print('Error, please enter numeric input')\n",
    "    quit()\n",
    "\n",
    "\n",
    "\n"
   ]
  },
  {
   "cell_type": "markdown",
   "metadata": {},
   "source": [
    "Write a program which repeatedly reads numbers until the user enters \"done\". Once \"done\" is entered, print out the total, count, and average of the numbers. If the user enters anything other than a number, detect their mistake using try and except and print an error message and skip to the next number.\n",
    "\n",
    "Enter a number: 4\n",
    "\n",
    "Enter a number: 5\n",
    "\n",
    "Enter a number: bad data\n",
    "\n",
    "Invalid input\n",
    "\n",
    "Enter a number: done\n",
    "\n",
    "9.0 2 4.5"
   ]
  },
  {
   "cell_type": "code",
   "execution_count": 2,
   "metadata": {
    "collapsed": false
   },
   "outputs": [
    {
     "name": "stdout",
     "output_type": "stream",
     "text": [
      "Enter :4\n",
      "Enter :4\n",
      "Enter :4\n",
      "Enter :4\n",
      "Enter :done\n",
      "Sum : 16.0\n",
      "Count : 4\n",
      "Average : 4.0\n"
     ]
    }
   ],
   "source": [
    "sum=0\n",
    "count=0\n",
    "\n",
    "while True:\n",
    "    num = input('Enter :' )\n",
    "    if num == 'done':\n",
    "        break\n",
    "    try:\n",
    "        x = float(num)\n",
    "    except:\n",
    "        print('An error message')\n",
    "        continue\n",
    "\n",
    "    count = count + 1\n",
    "    sum = sum + x\n",
    "    avg = sum/count\n",
    "print('Sum :',sum)\n",
    "print('Count :', count)\n",
    "print('Average :',avg)\n"
   ]
  },
  {
   "cell_type": "markdown",
   "metadata": {
    "collapsed": true
   },
   "source": [
    "Write a program to check wheather a number is prime or not"
   ]
  },
  {
   "cell_type": "code",
   "execution_count": 6,
   "metadata": {
    "collapsed": false
   },
   "outputs": [
    {
     "name": "stdout",
     "output_type": "stream",
     "text": [
      "Enter any number: 5\n",
      "5 is a prime number.\n"
     ]
    }
   ],
   "source": [
    "\n",
    "num = input(\"Enter any number: \")\n",
    "try:\n",
    "    number = int(num)\n",
    "    for i in range(2, number):\n",
    "        if number%i == 0:\n",
    "            print(number, \"is not a prime number.\")\n",
    "            break;\n",
    "    else:\n",
    "        print(number, \"is a prime number.\")\n",
    "except ValueError:\n",
    "    print(\"Please, enter a number...exiting...\")\n",
    "\n",
    "    \n",
    "    \n",
    "   \n"
   ]
  },
  {
   "cell_type": "markdown",
   "metadata": {
    "collapsed": true
   },
   "source": [
    "Problem 1 : Python Program to add two numbers"
   ]
  },
  {
   "cell_type": "code",
   "execution_count": 2,
   "metadata": {
    "collapsed": false
   },
   "outputs": [
    {
     "name": "stdout",
     "output_type": "stream",
     "text": [
      "Enter first Number : 3\n",
      "Enter second Number : re\n",
      "Invalid Input\n"
     ]
    }
   ],
   "source": [
    "first_number =  input('Enter first Number : ')\n",
    "second_number = input('Enter second Number : ')\n",
    "try:\n",
    "    x = float(first_number)\n",
    "    y = float(second_number)\n",
    "        \n",
    "    Sum = x + y\n",
    "    print('Sum of The Numbers is :',Sum)\n",
    "except:\n",
    "    print('Invalid Input')\n",
    "    quit()\n"
   ]
  },
  {
   "cell_type": "markdown",
   "metadata": {},
   "source": [
    "Problem 2 : Python Program for factorial of a number"
   ]
  },
  {
   "cell_type": "code",
   "execution_count": 1,
   "metadata": {
    "collapsed": false
   },
   "outputs": [
    {
     "name": "stdout",
     "output_type": "stream",
     "text": [
      "Enter a Number : 5\n",
      "120\n"
     ]
    }
   ],
   "source": [
    "Number = (input('Enter a Number : '))\n",
    "fact = 1\n",
    "try:\n",
    "    a = int(Number)\n",
    "    for i in range(1,a+1):\n",
    "        fact = fact * i\n",
    "    print(fact)\n",
    "except:\n",
    "    print('Invalid Input')\n",
    "    quit()\n",
    "\n",
    "    "
   ]
  },
  {
   "cell_type": "markdown",
   "metadata": {},
   "source": [
    "Problem 3 : Python Program for simple interest\n"
   ]
  },
  {
   "cell_type": "code",
   "execution_count": 3,
   "metadata": {
    "collapsed": false
   },
   "outputs": [
    {
     "name": "stdout",
     "output_type": "stream",
     "text": [
      "Enter Principle Amounttwo\n",
      "Enter Rate2\n",
      "Enter Time2\n",
      "Inavlid Input\n"
     ]
    }
   ],
   "source": [
    "principle_amount = input('Enter Principle Amount')\n",
    "rate = input('Enter Rate')\n",
    "time = input('Enter Time')\n",
    "try:\n",
    "    w = float(principle_amount)\n",
    "    x = float(rate)\n",
    "    y = float(time)\n",
    "    simple_interest = (w*x*y)/10\n",
    "    print('Simple Interest is :',simple_interest)\n",
    "except:\n",
    "    print('Inavlid Input')\n"
   ]
  },
  {
   "cell_type": "markdown",
   "metadata": {},
   "source": [
    "Problem 4 : Python Program for compound interest"
   ]
  },
  {
   "cell_type": "code",
   "execution_count": 2,
   "metadata": {
    "collapsed": false
   },
   "outputs": [
    {
     "name": "stdout",
     "output_type": "stream",
     "text": [
      "Enter Principle Amount2\n",
      "Enter Rate2.4\n",
      "Enter Time3\n",
      "Compound Interest is : 2.147483648\n"
     ]
    }
   ],
   "source": [
    "import math\n",
    "principle_amount = input('Enter Principle Amount')\n",
    "rate = input('Enter Rate')\n",
    "time = input('Enter Time')\n",
    "try:\n",
    "    w = float(principle_amount)\n",
    "    x = float(rate)\n",
    "    y = float(time)\n",
    "    z = 1 + x/100\n",
    "    compound_interest = w*(math.pow(z , y))\n",
    "    print('Compound Interest is :',compound_interest)\n",
    "except:\n",
    "    print('Invalid Input')"
   ]
  },
  {
   "cell_type": "markdown",
   "metadata": {},
   "source": [
    "Problem 5 : Python Program to check Armstrong Number"
   ]
  },
  {
   "cell_type": "code",
   "execution_count": null,
   "metadata": {
    "collapsed": true
   },
   "outputs": [],
   "source": [
    "x = input('Enter a Number : ')\n",
    "try:\n",
    "    s = int(x)\n",
    "    while s > 1:\n",
    "        rem = s%10\n",
    "        "
   ]
  },
  {
   "cell_type": "markdown",
   "metadata": {},
   "source": [
    "Problem 6 : Python Program for Program to find area of a circle"
   ]
  },
  {
   "cell_type": "code",
   "execution_count": 27,
   "metadata": {
    "collapsed": false
   },
   "outputs": [
    {
     "name": "stdout",
     "output_type": "stream",
     "text": [
      "Enter Radius : tre\n",
      "Inavlid Input\n"
     ]
    }
   ],
   "source": [
    "import math\n",
    "radius = (input('Enter Radius : '))\n",
    "try:\n",
    "    x = float(radius)\n",
    "    area = math.pi*x*x\n",
    "    print('Area of circle is :', area)\n",
    "except:\n",
    "    print('Inavlid Input')\n",
    "    "
   ]
  },
  {
   "cell_type": "markdown",
   "metadata": {},
   "source": [
    "Problem 7: Python program to print all Prime numbers in an Interval"
   ]
  },
  {
   "cell_type": "code",
   "execution_count": 51,
   "metadata": {
    "collapsed": false
   },
   "outputs": [
    {
     "name": "stdout",
     "output_type": "stream",
     "text": [
      "Enter lower range: two\n",
      "Enter upper range: w\n",
      "Invalid Input\n"
     ]
    }
   ],
   "source": [
    "start = input(\"Enter lower range: \")  \n",
    "end = input(\"Enter upper range: \")\n",
    "try:\n",
    "    x = int(start)\n",
    "    y = int(end)\n",
    "    for num in range(x,y + 1):\n",
    "        if num > 1:\n",
    "            for i in range(2,num):\n",
    "                if (num % i) == 0:\n",
    "                    break  \n",
    "            else:\n",
    "                print(num)\n",
    "except:\n",
    "    print('Invalid Input')"
   ]
  },
  {
   "cell_type": "markdown",
   "metadata": {},
   "source": [
    "Problem 8: Python program to check whether a number is Prime or not"
   ]
  },
  {
   "cell_type": "code",
   "execution_count": 15,
   "metadata": {
    "collapsed": false
   },
   "outputs": [
    {
     "name": "stdout",
     "output_type": "stream",
     "text": [
      "Enter a Number : 79\n",
      "Number is prime\n"
     ]
    }
   ],
   "source": [
    "num = input('Enter a Number : ')\n",
    "try:\n",
    "    x = int(num)\n",
    "    for i  in range(2,x):\n",
    "        if x%i==0:\n",
    "            print('Number is not prime')\n",
    "            break;\n",
    "    else:\n",
    "        print('Number is prime')\n",
    "except:\n",
    "    print('Invalid Input')"
   ]
  },
  {
   "cell_type": "markdown",
   "metadata": {},
   "source": [
    "Problem 9 : Python Program for n-th Fibonacci number"
   ]
  },
  {
   "cell_type": "code",
   "execution_count": 6,
   "metadata": {
    "collapsed": false
   },
   "outputs": [
    {
     "name": "stdout",
     "output_type": "stream",
     "text": [
      "Enter a number : 5\n",
      "Fibonacci Series is :\n",
      "0\n",
      "1\n",
      "1\n",
      "2\n",
      "3\n"
     ]
    }
   ],
   "source": [
    "def fib(n):\n",
    "    if n<=1:\n",
    "        return n\n",
    "    else:\n",
    "        return fib(n-1)+fib(n-2)\n",
    "num = input('Enter a number : ')\n",
    "try:\n",
    "    x = int(num)\n",
    "    if x<=0:\n",
    "        print('Fibonacci of negative number is not possible')\n",
    "    else:\n",
    "        print('Fibonacci Series is :')\n",
    "        for i in range(x):\n",
    "            print(fib(i))\n",
    "except:\n",
    "    print('Invalid input')\n"
   ]
  },
  {
   "cell_type": "markdown",
   "metadata": {
    "collapsed": true
   },
   "source": [
    "Problem 10 : Python Program for printing Fibonacci numbers\n"
   ]
  },
  {
   "cell_type": "code",
   "execution_count": 5,
   "metadata": {
    "collapsed": false
   },
   "outputs": [
    {
     "name": "stdout",
     "output_type": "stream",
     "text": [
      "Enter The numbers upto which fibonacci series 5\n",
      "Fibonacci series is ;\n",
      "0\n",
      "1\n",
      "1\n",
      "2\n",
      "3\n"
     ]
    }
   ],
   "source": [
    "def fib(n):\n",
    "    if n<=1:\n",
    "        return n\n",
    "    else:\n",
    "        return fib(n-1)+fib(n-2)\n",
    "num =  input('Enter The numbers upto which fibonacci series ')\n",
    "try:\n",
    "    y = int(num)\n",
    "    if y<=0:\n",
    "        print('Fibonacci of negative numbers is not possible')\n",
    "    else:\n",
    "        print('Fibonacci series is ;')\n",
    "        for i in range(y):\n",
    "            print(fib(i))\n",
    "except:\n",
    "    print('Invalid input')"
   ]
  },
  {
   "cell_type": "markdown",
   "metadata": {},
   "source": [
    "Problem 11 : Python Program for How to check if a given number is Fibonacci number?\n"
   ]
  },
  {
   "cell_type": "code",
   "execution_count": 23,
   "metadata": {
    "collapsed": false
   },
   "outputs": [
    {
     "name": "stdout",
     "output_type": "stream",
     "text": [
      "Enter a Number :5\n",
      "Number is not fib\n",
      "Number is not fib\n",
      "Number is not fib\n",
      "Number is not fib\n",
      "Number is not fib\n"
     ]
    }
   ],
   "source": [
    "num = int(input('Enter a Number :'))\n",
    "sum = 0\n",
    "for i in range(1,num+1):\n",
    "    sum = sum + i*2\n",
    "    if sum == i:\n",
    "        print('number is fib')\n",
    "    else:\n",
    "        print('Number is not fib')\n",
    "        "
   ]
  },
  {
   "cell_type": "markdown",
   "metadata": {},
   "source": [
    "Problem 12 : Program to print ASCII Value of a character\n"
   ]
  },
  {
   "cell_type": "code",
   "execution_count": 14,
   "metadata": {
    "collapsed": false
   },
   "outputs": [
    {
     "name": "stdout",
     "output_type": "stream",
     "text": [
      "Enter a characterD\n",
      "68\n"
     ]
    }
   ],
   "source": [
    "char = input('Enter a character')\n",
    "print(ord(char))"
   ]
  },
  {
   "cell_type": "markdown",
   "metadata": {},
   "source": [
    "Problem 13:Python Program for Sum of squares of ﬁrst n natural numbers\n"
   ]
  },
  {
   "cell_type": "code",
   "execution_count": 26,
   "metadata": {
    "collapsed": false
   },
   "outputs": [
    {
     "name": "stdout",
     "output_type": "stream",
     "text": [
      "Enter a Number :5\n",
      "55\n"
     ]
    }
   ],
   "source": [
    "num = int(input('Enter a Number :'))\n",
    "sum = 0\n",
    "for i in range(1,num+1):\n",
    "    sum = sum + i**2\n",
    "print(sum)"
   ]
  },
  {
   "cell_type": "markdown",
   "metadata": {},
   "source": [
    "Problem 14 : Python Program for cube sum of ﬁrst n natural numbers\n"
   ]
  },
  {
   "cell_type": "code",
   "execution_count": 25,
   "metadata": {
    "collapsed": false
   },
   "outputs": [
    {
     "name": "stdout",
     "output_type": "stream",
     "text": [
      "Enter a Number :7\n",
      "784\n"
     ]
    }
   ],
   "source": [
    "num = int(input('Enter a Number :'))\n",
    "sum = 0\n",
    "for i in range(1,num+1):\n",
    "    sum = sum + i**3\n",
    "print(sum)"
   ]
  },
  {
   "cell_type": "markdown",
   "metadata": {},
   "source": [
    "Program for making different patterns"
   ]
  },
  {
   "cell_type": "code",
   "execution_count": 28,
   "metadata": {
    "collapsed": false
   },
   "outputs": [
    {
     "name": "stdout",
     "output_type": "stream",
     "text": [
      "*\n",
      "**\n",
      "***\n",
      "****\n",
      "*****\n",
      "******\n"
     ]
    }
   ],
   "source": [
    "for i in range(6):\n",
    "    for j in range(i+1):\n",
    "        print('*',end='')\n",
    "    print()"
   ]
  },
  {
   "cell_type": "code",
   "execution_count": 37,
   "metadata": {
    "collapsed": false
   },
   "outputs": [
    {
     "name": "stdout",
     "output_type": "stream",
     "text": [
      "*\n",
      "*#\n",
      "*#*\n",
      "*#*#\n",
      "*#*#*\n",
      "*#*#*#\n"
     ]
    }
   ],
   "source": [
    "for i in range(6):\n",
    "    for j in range(i+1):\n",
    "        if j%2==0:\n",
    "            print('*',end='')\n",
    "        else:\n",
    "            print('#',end='')\n",
    "    print()"
   ]
  },
  {
   "cell_type": "code",
   "execution_count": 56,
   "metadata": {
    "collapsed": false
   },
   "outputs": [
    {
     "name": "stdout",
     "output_type": "stream",
     "text": [
      "\n",
      "1 \n",
      "2 2 \n",
      "3 3 3 \n",
      "4 4 4 4 \n",
      "5 5 5 5 5 \n"
     ]
    }
   ],
   "source": [
    "for i in range(6):\n",
    "    for j in range(1,i+1):\n",
    "        print(i ,end=' ')\n",
    "    print()"
   ]
  },
  {
   "cell_type": "code",
   "execution_count": 61,
   "metadata": {
    "collapsed": false
   },
   "outputs": [
    {
     "name": "stdout",
     "output_type": "stream",
     "text": [
      "1 \n",
      "1 2 \n",
      "1 2 3 \n",
      "1 2 3 4 \n",
      "1 2 3 4 5 \n",
      "1 2 3 4 5 6 \n"
     ]
    }
   ],
   "source": [
    "for i in range(1,6+1):\n",
    "    for j in range(1,i+1):\n",
    "        print(j,end=' ')\n",
    "    print()"
   ]
  },
  {
   "cell_type": "code",
   "execution_count": 63,
   "metadata": {
    "collapsed": false
   },
   "outputs": [
    {
     "name": "stdout",
     "output_type": "stream",
     "text": [
      "1 2 3 4 5 6 \n",
      "1 2 3 4 5 \n",
      "1 2 3 4 \n",
      "1 2 3 \n",
      "1 2 \n",
      "1 \n"
     ]
    }
   ],
   "source": [
    "for i in range(6,0,-1):\n",
    "    for j in range(1,i+1):\n",
    "        print(j,end=' ')\n",
    "    print()"
   ]
  },
  {
   "cell_type": "code",
   "execution_count": 65,
   "metadata": {
    "collapsed": false
   },
   "outputs": [
    {
     "name": "stdout",
     "output_type": "stream",
     "text": [
      "6 6 6 6 6 6 \n",
      "5 5 5 5 5 \n",
      "4 4 4 4 \n",
      "3 3 3 \n",
      "2 2 \n",
      "1 \n"
     ]
    }
   ],
   "source": [
    "for i in range(6,0,-1):\n",
    "    for j in range(1,i+1):\n",
    "        print(i,end=' ')\n",
    "    print()"
   ]
  },
  {
   "cell_type": "code",
   "execution_count": 76,
   "metadata": {
    "collapsed": false
   },
   "outputs": [
    {
     "name": "stdout",
     "output_type": "stream",
     "text": [
      "1 1 1 1 1 1 \n",
      "2 2 2 2 2 \n",
      "3 3 3 3 \n",
      "4 4 4 \n",
      "5 5 \n",
      "6 \n"
     ]
    }
   ],
   "source": [
    "b=0\n",
    "for i in range(6,0,-1):\n",
    "    b=b+1\n",
    "    for j in range(0,i):\n",
    "        print(b,end=' ')\n",
    "    print()"
   ]
  },
  {
   "cell_type": "code",
   "execution_count": 75,
   "metadata": {
    "collapsed": false
   },
   "outputs": [
    {
     "name": "stdout",
     "output_type": "stream",
     "text": [
      "5 5 5 5 5 5 \n",
      "5 5 5 5 5 \n",
      "5 5 5 5 \n",
      "5 5 5 \n",
      "5 5 \n",
      "5 \n"
     ]
    }
   ],
   "source": [
    "b=5\n",
    "for i in range(6,0,-1):\n",
    "    for j in range(0,i):\n",
    "        print(b,end=' ')\n",
    "    print()"
   ]
  },
  {
   "cell_type": "code",
   "execution_count": 77,
   "metadata": {
    "collapsed": false
   },
   "outputs": [
    {
     "name": "stdout",
     "output_type": "stream",
     "text": [
      "6 6 6 6 6 6 \n",
      "5 5 5 5 5 \n",
      "4 4 4 4 \n",
      "3 3 3 \n",
      "2 2 \n",
      "1 \n"
     ]
    }
   ],
   "source": [
    "for i in range(6,0,-1):\n",
    "    for j in range(0,i):\n",
    "        print(i,end=' ')\n",
    "    print()"
   ]
  },
  {
   "cell_type": "code",
   "execution_count": 79,
   "metadata": {
    "collapsed": false
   },
   "outputs": [
    {
     "name": "stdout",
     "output_type": "stream",
     "text": [
      "0 1 2 3 4 5 6 \n",
      "0 1 2 3 4 5 \n",
      "0 1 2 3 4 \n",
      "0 1 2 3 \n",
      "0 1 2 \n",
      "0 1 \n"
     ]
    }
   ],
   "source": [
    "for i in range(6,0,-1):\n",
    "    for j in range(0,i+1):\n",
    "        print(j,end=' ')\n",
    "    print()"
   ]
  },
  {
   "cell_type": "code",
   "execution_count": 84,
   "metadata": {
    "collapsed": false
   },
   "outputs": [
    {
     "name": "stdout",
     "output_type": "stream",
     "text": [
      "0 \n",
      "1 0 \n",
      "2 1 0 \n",
      "3 2 1 0 \n",
      "4 3 2 1 0 \n",
      "5 4 3 2 1 0 \n",
      "6 5 4 3 2 1 0 \n",
      "7 6 5 4 3 2 1 0 \n"
     ]
    }
   ],
   "source": [
    "for i in range(0,8):\n",
    "    for j in range(i,-1,-1):\n",
    "        print(j,end=' ')\n",
    "    print()"
   ]
  },
  {
   "cell_type": "code",
   "execution_count": 90,
   "metadata": {
    "collapsed": false
   },
   "outputs": [
    {
     "name": "stdout",
     "output_type": "stream",
     "text": [
      "\n",
      "   1  \n",
      "   2     1  \n",
      "   4     2     1  \n",
      "   8     4     2     1  \n",
      "  16     8     4     2     1  \n",
      "  32    16     8     4     2     1  \n",
      "  64    32    16     8     4     2     1  \n",
      " 128    64    32    16     8     4     2     1  \n",
      " 256   128    64    32    16     8     4     2     1  \n",
      " 512   256   128    64    32    16     8     4     2     1  \n",
      "1024   512   256   128    64    32    16     8     4     2     1  \n"
     ]
    }
   ],
   "source": [
    "for i in range(0,12):\n",
    "    for j in range(i-1,-1,-1):\n",
    "        print(format(2**j,'4d'), end='  ')\n",
    "    print()\n",
    " "
   ]
  },
  {
   "cell_type": "code",
   "execution_count": 2,
   "metadata": {
    "collapsed": false
   },
   "outputs": [
    {
     "name": "stdout",
     "output_type": "stream",
     "text": [
      "\n",
      "   2  \n",
      "   4     4  \n",
      "   8     8     8  \n",
      "  16    16    16    16  \n",
      "  32    32    32    32    32  \n",
      "  64    64    64    64    64    64  \n",
      " 128   128   128   128   128   128   128  \n",
      " 256   256   256   256   256   256   256   256  \n",
      " 512   512   512   512   512   512   512   512   512  \n",
      "1024  1024  1024  1024  1024  1024  1024  1024  1024  1024  \n",
      "2048  2048  2048  2048  2048  2048  2048  2048  2048  2048  2048  \n"
     ]
    }
   ],
   "source": [
    "for i in range(0,12):\n",
    "    for j in range(i-1,-1,-1):\n",
    "        print(format(2**i,'4d'), end='  ')\n",
    "    print()\n",
    " "
   ]
  },
  {
   "cell_type": "markdown",
   "metadata": {
    "collapsed": true
   },
   "source": [
    "Take the following Python code that stores a string:`\n",
    "\n",
    "str = 'X-DSPAM-Confidence:0.8475'\n",
    "\n",
    "Use find and string slicing to extract the portion of the string after the colon character and then use the float function to convert the extracted string into a floating point number."
   ]
  },
  {
   "cell_type": "code",
   "execution_count": 5,
   "metadata": {
    "collapsed": false
   },
   "outputs": [
    {
     "name": "stdout",
     "output_type": "stream",
     "text": [
      "0.8475\n",
      "0.8475\n"
     ]
    }
   ],
   "source": [
    "str =   'X-DSPAM-Confidence:0.8475'\n",
    "pos = str.find(':')\n",
    "pos\n",
    "data = str[pos+1:]\n",
    "print(data)\n",
    "d = float(data)\n",
    "print(d)"
   ]
  },
  {
   "cell_type": "markdown",
   "metadata": {
    "collapsed": true
   },
   "source": [
    "\n",
    "Create a file named \"file.txt\" with the following text:\n",
    "\n",
    "\"From stephen.marquard@uct.ac.za Sat Jan  5 09:14:16 2008\n",
    "\n",
    "From stephen.marquard@uct.ac.za Sun Jan  6 09:14:16 2008\n",
    "\n",
    "From stephen.marquard@uct.ac.za Mon Jan  7 09:14:16 2008\n",
    "\n",
    "From stephen.marquard@uct.ac.za Tue Jan  8 09:14:16 2008\n",
    "\n",
    "From stephen.marquard@uct.ac.za Wed Jan  9 09:14:16 2008\"\n",
    "\n",
    " \n",
    "\n",
    "You are requested to extract Day i.e. Sat, Sun etc from this file and print the days so that your output looks like:\n",
    "\n",
    "\"Sat\n",
    "\n",
    "Sun\n",
    "\n",
    "Mon\n",
    "\n",
    "Tue\n",
    "\n",
    "Wed\"\n",
    "\n",
    "Write your code in Any installed Text Editor and then tick the matching answer."
   ]
  },
  {
   "cell_type": "code",
   "execution_count": 1,
   "metadata": {
    "collapsed": false
   },
   "outputs": [
    {
     "name": "stdout",
     "output_type": "stream",
     "text": [
      "Sat\n",
      "Sun\n",
      "Mon\n",
      "Tue\n",
      "Wed\n"
     ]
    }
   ],
   "source": [
    "han = open ('file.txt')\n",
    "\n",
    "for line in han:\n",
    "     line = line.rstrip()\n",
    "     wds = line.split()\n",
    "     if len(wds)<3  :\n",
    "          continue\n",
    "     print(wds[2])"
   ]
  },
  {
   "cell_type": "markdown",
   "metadata": {
    "collapsed": true
   },
   "source": [
    "Create a file named \"file.txt\" and copy paste the following information in the file :\n",
    "\n",
    "\"the clown ran after the car and the car ran into the tent and the tent fell down on the clown and the car\"\n",
    "\n",
    "Count the number of words i.e each word comes how many times using dictionaries.\n",
    "\n",
    "For example, the comes 7 times, clown 2 times and so on.\n",
    "\n",
    "Thereafter, calculate the the word coming largest number of times.\n",
    "\n",
    " \n",
    "\n",
    "The output should be as follows:\n",
    "\n",
    "\"Enter File file.txt\n",
    "\n",
    "the 7\n",
    "\n",
    "clown 2\n",
    "\n",
    "ran 2\n",
    "\n",
    "after 1\n",
    "\n",
    "car 3\n",
    "\n",
    "and 3\n",
    "\n",
    "into 1\n",
    "\n",
    "tent 2\n",
    "\n",
    "fell 1\n",
    "\n",
    "down 1\n",
    "\n",
    "on 1\n",
    "\n",
    "Done the 7\""
   ]
  },
  {
   "cell_type": "code",
   "execution_count": null,
   "metadata": {
    "collapsed": true
   },
   "outputs": [],
   "source": []
  }
 ],
 "metadata": {
  "kernelspec": {
   "display_name": "Python 3",
   "language": "python",
   "name": "python3"
  },
  "language_info": {
   "codemirror_mode": {
    "name": "ipython",
    "version": 3
   },
   "file_extension": ".py",
   "mimetype": "text/x-python",
   "name": "python",
   "nbconvert_exporter": "python",
   "pygments_lexer": "ipython3",
   "version": "3.6.0"
  }
 },
 "nbformat": 4,
 "nbformat_minor": 2
}
